{
 "cells": [
  {
   "cell_type": "markdown",
   "metadata": {},
   "source": [
    "# Saving and Loading Models\n",
    "\n",
    "In this notebook, I'll show you how to save and load models with PyTorch. This is important because you'll often want to load previously trained models to use in making predictions or to continue training on new data."
   ]
  },
  {
   "cell_type": "code",
   "execution_count": 3,
   "metadata": {},
   "outputs": [],
   "source": [
    "%matplotlib inline\n",
    "%config InlineBackend.figure_format = 'retina'\n",
    "\n",
    "import matplotlib.pyplot as plt\n",
    "\n",
    "import torch\n",
    "from torch import nn\n",
    "from torch import optim\n",
    "import torch.nn.functional as F\n",
    "from torchvision import datasets, transforms\n",
    "\n",
    "import helper\n",
    "import fc_model"
   ]
  },
  {
   "cell_type": "code",
   "execution_count": 4,
   "metadata": {},
   "outputs": [],
   "source": [
    "# Define a transform to normalize the data\n",
    "transform = transforms.Compose([transforms.ToTensor(),\n",
    "                                transforms.Normalize((0.5,), (0.5,))])\n",
    "# Download and load the training data\n",
    "trainset = datasets.FashionMNIST('~/.pytorch/F_MNIST_data/', download=True, train=True, transform=transform)\n",
    "trainloader = torch.utils.data.DataLoader(trainset, batch_size=64, shuffle=True)\n",
    "\n",
    "# Download and load the test data\n",
    "testset = datasets.FashionMNIST('~/.pytorch/F_MNIST_data/', download=True, train=False, transform=transform)\n",
    "testloader = torch.utils.data.DataLoader(testset, batch_size=64, shuffle=True)"
   ]
  },
  {
   "cell_type": "markdown",
   "metadata": {},
   "source": [
    "Here we can see one of the images."
   ]
  },
  {
   "cell_type": "code",
   "execution_count": 6,
   "metadata": {},
   "outputs": [
    {
     "data": {
      "text/plain": [
       "<matplotlib.axes._subplots.AxesSubplot at 0x7fabe18df9e8>"
      ]
     },
     "execution_count": 6,
     "metadata": {},
     "output_type": "execute_result"
    },
    {
     "data": {
      "image/png": "[encoded data removed]",
      "text/plain": [
       "<Figure size 432x288 with 1 Axes>"
      ]
     },
     "metadata": {
      "image/png": {
       "height": 233,
       "width": 233
      },
      "needs_background": "light"
     },
     "output_type": "display_data"
    },
    {
     "data": {
      "image/png": "[encoded data removed]",
      "text/plain": [
       "<Figure size 432x288 with 1 Axes>"
      ]
     },
     "metadata": {
      "image/png": {
       "height": 233,
       "width": 233
      },
      "needs_background": "light"
     },
     "output_type": "display_data"
    }
   ],
   "source": [
    "image, label = next(iter(trainloader))\n",
    "helper.imshow(image[0,:]);\n",
    "image, label = next(iter(testloader))\n",
    "helper.imshow(image[0,:])"
   ]
  },
  {
   "cell_type": "markdown",
   "metadata": {},
   "source": [
    "# Train a network\n",
    "\n",
    "To make things more concise here, I moved the model architecture and training code from the last part to a file called `fc_model`. Importing this, we can easily create a fully-connected network with `fc_model.Network`, and train the network using `fc_model.train`. I'll use this model (once it's trained) to demonstrate how we can save and load models."
   ]
  },
  {
   "cell_type": "code",
   "execution_count": 7,
   "metadata": {},
   "outputs": [],
   "source": [
    "# Create the network, define the criterion and optimizer\n",
    "\n",
    "model = fc_model.Network(784, 10, [512, 256, 128])\n",
    "criterion = nn.NLLLoss()\n",
    "optimizer = optim.Adam(model.parameters(), lr=0.001)"
   ]
  },
  {
   "cell_type": "code",
   "execution_count": 8,
   "metadata": {},
   "outputs": [
    {
     "name": "stdout",
     "output_type": "stream",
     "text": [
      "Epoch: 1/2..  Training Loss: 1.711..  Test Loss: 1.040..  Test Accuracy: 0.613\n",
      "Epoch: 1/2..  Training Loss: 1.110..  Test Loss: 0.838..  Test Accuracy: 0.674\n",
      "Epoch: 1/2..  Training Loss: 0.881..  Test Loss: 0.714..  Test Accuracy: 0.715\n",
      "Epoch: 1/2..  Training Loss: 0.802..  Test Loss: 0.643..  Test Accuracy: 0.763\n",
      "Epoch: 1/2..  Training Loss: 0.740..  Test Loss: 0.652..  Test Accuracy: 0.752\n",
      "Epoch: 1/2..  Training Loss: 0.747..  Test Loss: 0.612..  Test Accuracy: 0.758\n",
      "Epoch: 1/2..  Training Loss: 0.734..  Test Loss: 0.611..  Test Accuracy: 0.768\n",
      "Epoch: 1/2..  Training Loss: 0.666..  Test Loss: 0.577..  Test Accuracy: 0.783\n",
      "Epoch: 1/2..  Training Loss: 0.633..  Test Loss: 0.579..  Test Accuracy: 0.790\n",
      "Epoch: 1/2..  Training Loss: 0.656..  Test Loss: 0.550..  Test Accuracy: 0.798\n",
      "Epoch: 1/2..  Training Loss: 0.671..  Test Loss: 0.574..  Test Accuracy: 0.784\n",
      "Epoch: 1/2..  Training Loss: 0.626..  Test Loss: 0.526..  Test Accuracy: 0.799\n",
      "Epoch: 1/2..  Training Loss: 0.583..  Test Loss: 0.524..  Test Accuracy: 0.807\n",
      "Epoch: 1/2..  Training Loss: 0.613..  Test Loss: 0.521..  Test Accuracy: 0.811\n",
      "Epoch: 1/2..  Training Loss: 0.617..  Test Loss: 0.521..  Test Accuracy: 0.812\n",
      "Epoch: 1/2..  Training Loss: 0.624..  Test Loss: 0.498..  Test Accuracy: 0.812\n",
      "Epoch: 1/2..  Training Loss: 0.564..  Test Loss: 0.500..  Test Accuracy: 0.816\n",
      "Epoch: 1/2..  Training Loss: 0.609..  Test Loss: 0.494..  Test Accuracy: 0.822\n",
      "Epoch: 1/2..  Training Loss: 0.570..  Test Loss: 0.507..  Test Accuracy: 0.808\n",
      "Epoch: 1/2..  Training Loss: 0.538..  Test Loss: 0.489..  Test Accuracy: 0.820\n",
      "Epoch: 1/2..  Training Loss: 0.558..  Test Loss: 0.501..  Test Accuracy: 0.816\n",
      "Epoch: 1/2..  Training Loss: 0.579..  Test Loss: 0.481..  Test Accuracy: 0.830\n",
      "Epoch: 1/2..  Training Loss: 0.565..  Test Loss: 0.482..  Test Accuracy: 0.822\n",
      "Epoch: 2/2..  Training Loss: 0.555..  Test Loss: 0.484..  Test Accuracy: 0.821\n",
      "Epoch: 2/2..  Training Loss: 0.502..  Test Loss: 0.477..  Test Accuracy: 0.828\n",
      "Epoch: 2/2..  Training Loss: 0.553..  Test Loss: 0.468..  Test Accuracy: 0.829\n",
      "Epoch: 2/2..  Training Loss: 0.505..  Test Loss: 0.464..  Test Accuracy: 0.825\n",
      "Epoch: 2/2..  Training Loss: 0.547..  Test Loss: 0.478..  Test Accuracy: 0.825\n",
      "Epoch: 2/2..  Training Loss: 0.537..  Test Loss: 0.473..  Test Accuracy: 0.825\n",
      "Epoch: 2/2..  Training Loss: 0.567..  Test Loss: 0.483..  Test Accuracy: 0.824\n",
      "Epoch: 2/2..  Training Loss: 0.547..  Test Loss: 0.467..  Test Accuracy: 0.830\n",
      "Epoch: 2/2..  Training Loss: 0.571..  Test Loss: 0.500..  Test Accuracy: 0.822\n",
      "Epoch: 2/2..  Training Loss: 0.571..  Test Loss: 0.458..  Test Accuracy: 0.826\n",
      "Epoch: 2/2..  Training Loss: 0.564..  Test Loss: 0.479..  Test Accuracy: 0.821\n",
      "Epoch: 2/2..  Training Loss: 0.505..  Test Loss: 0.456..  Test Accuracy: 0.836\n",
      "Epoch: 2/2..  Training Loss: 0.566..  Test Loss: 0.474..  Test Accuracy: 0.828\n",
      "Epoch: 2/2..  Training Loss: 0.490..  Test Loss: 0.461..  Test Accuracy: 0.832\n",
      "Epoch: 2/2..  Training Loss: 0.499..  Test Loss: 0.461..  Test Accuracy: 0.836\n",
      "Epoch: 2/2..  Training Loss: 0.529..  Test Loss: 0.450..  Test Accuracy: 0.839\n",
      "Epoch: 2/2..  Training Loss: 0.520..  Test Loss: 0.470..  Test Accuracy: 0.831\n",
      "Epoch: 2/2..  Training Loss: 0.561..  Test Loss: 0.451..  Test Accuracy: 0.839\n",
      "Epoch: 2/2..  Training Loss: 0.525..  Test Loss: 0.459..  Test Accuracy: 0.832\n",
      "Epoch: 2/2..  Training Loss: 0.533..  Test Loss: 0.443..  Test Accuracy: 0.842\n",
      "Epoch: 2/2..  Training Loss: 0.498..  Test Loss: 0.457..  Test Accuracy: 0.834\n",
      "Epoch: 2/2..  Training Loss: 0.526..  Test Loss: 0.445..  Test Accuracy: 0.837\n",
      "Epoch: 2/2..  Training Loss: 0.512..  Test Loss: 0.471..  Test Accuracy: 0.825\n"
     ]
    }
   ],
   "source": [
    "fc_model.train(model, trainloader, testloader, criterion, optimizer, epochs=2)"
   ]
  },
  {
   "cell_type": "markdown",
   "metadata": {},
   "source": [
    "## Saving and loading networks\n",
    "\n",
    "As you can imagine, it's impractical to train a network every time you need to use it. Instead, we can save trained networks then load them later to train more or use them for predictions.\n",
    "\n",
    "The parameters for PyTorch networks are stored in a model's `state_dict`. We can see the state dict contains the weight and bias matrices for each of our layers."
   ]
  },
  {
   "cell_type": "code",
   "execution_count": 9,
   "metadata": {},
   "outputs": [
    {
     "name": "stdout",
     "output_type": "stream",
     "text": [
      "Our model: \n",
      "\n",
      " Network(\n",
      "  (hidden_layers): ModuleList(\n",
      "    (0): Linear(in_features=784, out_features=512, bias=True)\n",
      "    (1): Linear(in_features=512, out_features=256, bias=True)\n",
      "    (2): Linear(in_features=256, out_features=128, bias=True)\n",
      "  )\n",
      "  (output): Linear(in_features=128, out_features=10, bias=True)\n",
      "  (dropout): Dropout(p=0.5)\n",
      ") \n",
      "\n",
      "The state dict keys: \n",
      "\n",
      " odict_keys(['hidden_layers.0.weight', 'hidden_layers.0.bias', 'hidden_layers.1.weight', 'hidden_layers.1.bias', 'hidden_layers.2.weight', 'hidden_layers.2.bias', 'output.weight', 'output.bias'])\n"
     ]
    }
   ],
   "source": [
    "print(\"Our model: \\n\\n\", model, '\\n')\n",
    "print(\"The state dict keys: \\n\\n\", model.state_dict().keys())"
   ]
  },
  {
   "cell_type": "code",
   "execution_count": 15,
   "metadata": {},
   "outputs": [
    {
     "data": {
      "text/plain": [
       "odict_keys(['hidden_layers.0.weight', 'hidden_layers.0.bias', 'hidden_layers.1.weight', 'hidden_layers.1.bias', 'hidden_layers.2.weight', 'hidden_layers.2.bias', 'output.weight', 'output.bias'])"
      ]
     },
     "execution_count": 15,
     "metadata": {},
     "output_type": "execute_result"
    }
   ],
   "source": [
    "model.state_dict().keys()"
   ]
  },
  {
   "cell_type": "markdown",
   "metadata": {},
   "source": [
    "The simplest thing to do is simply save the state dict with `torch.save`. For example, we can save it to a file `'checkpoint.pth'`."
   ]
  },
  {
   "cell_type": "code",
   "execution_count": 18,
   "metadata": {},
   "outputs": [],
   "source": [
    "torch.save(model.state_dict(), 'checkpoint.pth')"
   ]
  },
  {
   "cell_type": "markdown",
   "metadata": {},
   "source": [
    "Then we can load the state dict with `torch.load`."
   ]
  },
  {
   "cell_type": "code",
   "execution_count": 19,
   "metadata": {},
   "outputs": [
    {
     "name": "stdout",
     "output_type": "stream",
     "text": [
      "odict_keys(['hidden_layers.0.weight', 'hidden_layers.0.bias', 'hidden_layers.1.weight', 'hidden_layers.1.bias', 'hidden_layers.2.weight', 'hidden_layers.2.bias', 'output.weight', 'output.bias'])\n"
     ]
    }
   ],
   "source": [
    "state_dict = torch.load('checkpoint.pth')\n",
    "print(state_dict.keys())"
   ]
  },
  {
   "cell_type": "code",
   "execution_count": 20,
   "metadata": {
    "collapsed": true
   },
   "outputs": [
    {
     "data": {
      "text/plain": [
       "OrderedDict([('hidden_layers.0.weight',\n",
       "              tensor([[ 1.4932e-02,  3.6888e-02,  2.6600e-02,  ...,  4.2900e-02,\n",
       "                        1.1058e-02,  2.0890e-02],\n",
       "                      [ 3.0169e-03, -2.2287e-03,  1.6767e-02,  ..., -1.2512e-02,\n",
       "                        8.2235e-03,  4.7488e-02],\n",
       "                      [-3.0533e-02,  2.1133e-02, -4.6564e-03,  ..., -6.3952e-04,\n",
       "                       -2.7527e-02,  1.9183e-02],\n",
       "                      ...,\n",
       "                      [ 3.5065e-02,  5.8243e-02,  6.3899e-02,  ...,  4.9633e-02,\n",
       "                        2.9890e-02,  1.3904e-02],\n",
       "                      [ 4.3065e-02, -4.9306e-03,  5.5984e-02,  ..., -1.7036e-02,\n",
       "                        8.7653e-03,  1.3454e-02],\n",
       "                      [ 3.5346e-02, -3.7693e-03,  3.4703e-02,  ...,  1.1275e-02,\n",
       "                       -5.5197e-03,  5.6457e-02]])),\n",
       "             ('hidden_layers.0.bias', tensor(1.00000e-02 *\n",
       "                     [ 1.4456, -2.5130,  3.6739, -3.0802, -2.3543, -2.0257, -1.6964,\n",
       "                      -3.6881, -5.1060, -0.8655, -5.4520, -4.4370, -0.9696, -3.1034,\n",
       "                       1.9652, -4.0516, -0.8239,  1.8678, -4.2095, -2.1593, -2.4282,\n",
       "                      -2.2667,  1.8898, -5.4340, -5.1557, -8.5258, -5.0368,  2.2868,\n",
       "                       0.5513,  1.1119, -4.2545, -0.2512, -2.6990, -2.3788, -4.2163,\n",
       "                      -0.4821,  0.2147, -1.5173, -3.9394, -0.0511,  1.8200, -3.3615,\n",
       "                      -7.8734, -5.2503, -1.9487, -2.8029, -3.9639, -0.5228, -0.5885,\n",
       "                      -2.0697, -2.3358, -1.1478,  0.9155, -4.1323, -0.2645, -5.1410,\n",
       "                      -3.6917, -7.0395, -0.8689, -7.3250, -3.0089, -0.9264, -0.3961,\n",
       "                      -1.8703,  0.2720, -5.2436, -4.9083, -1.1576,  1.8825,  1.1158,\n",
       "                       0.7146, -5.7260, -2.7982, -1.0697, -4.6265, -2.1689, -1.2003,\n",
       "                      -3.5932, -1.4373,  1.1076,  0.4758, -2.4393, -5.5084, -3.4681,\n",
       "                      -2.3119, -0.8057, -3.8949, -0.0569, -2.6209, -0.6060,  0.0725,\n",
       "                      -2.0446, -3.6820, -4.4592,  1.2679, -1.3348, -0.6459, -3.2971,\n",
       "                      -1.3780, -3.7673, -0.2694, -5.9647, -0.0353, -3.9284, -1.0104,\n",
       "                      -1.7454,  1.6492, -6.1543, -4.6973, -1.4987,  0.6014,  0.4245,\n",
       "                      -5.9445,  0.6746, -2.9576, -1.0545, -0.8914,  2.9884,  4.7874,\n",
       "                       1.8674, -0.7621, -3.7618, -1.3416, -4.0941, -2.9057, -1.5430,\n",
       "                      -3.7642, -0.7856, -3.4944, -2.2615,  2.2571, -0.8918,  0.5928,\n",
       "                       1.9439, -1.8893, -2.9194,  1.3787, -4.1280,  1.3191, -4.5775,\n",
       "                       2.0307, -5.5862, -4.0024, -0.5382,  1.2505,  1.0185,  1.9694,\n",
       "                      -4.9431, -4.2068,  0.4521, -2.1408, -3.7376, -5.0780, -2.7433,\n",
       "                       0.1399, -2.8184, -5.6459, -3.7598, -0.3874, -0.1345,  1.3866,\n",
       "                      -1.1553, -4.3186, -3.8848,  1.6397, -1.1015, -3.1025, -4.2175,\n",
       "                       2.4584, -2.4128, -1.9127, -1.3189, -1.9647, -3.3962,  0.1739,\n",
       "                      -6.7982,  0.5042, -2.9549, -0.3603,  1.2379,  0.5089, -0.2480,\n",
       "                      -1.0675, -3.5678,  0.2178,  1.7541, -2.1531,  0.9678,  0.7399,\n",
       "                      -0.0877,  0.4772, -2.3107, -4.8651,  1.7572,  0.8921, -0.5996,\n",
       "                       1.5642, -4.9405, -2.8047, -4.3954, -4.2477, -0.2291, -0.9838,\n",
       "                      -5.5233,  0.9071, -5.8206, -5.4307, -2.8821,  4.3058,  2.1865,\n",
       "                      -1.9362, -1.2132,  0.4966, -5.5079, -2.0593,  3.4258, -1.9553,\n",
       "                      -4.0393,  0.4289, -0.9124, -3.9351,  1.7628, -4.8847, -2.3386,\n",
       "                       0.5941, -1.5624, -0.0297, -3.9119,  1.5830, -2.9175,  0.4807,\n",
       "                      -1.2021, -1.6297, -2.6472, -3.6437,  1.5832,  0.4422, -1.7595,\n",
       "                      -4.5016, -1.1261, -3.6631, -3.3064, -4.8614, -0.6317, -1.2103,\n",
       "                      -1.1498,  3.7019, -0.7982, -0.9010, -0.6063, -1.8377, -3.0223,\n",
       "                      -5.8510, -3.4814,  1.8122, -6.4452,  4.3630, -0.3244, -3.7271,\n",
       "                      -5.4162,  3.5591, -3.6537, -0.5833, -3.2400, -0.0107, -1.3704,\n",
       "                      -3.5209, -0.7228, -0.6868, -2.1070, -9.7245, -1.0565,  0.5269,\n",
       "                       3.9746, -2.8982,  1.5896, -3.7775, -3.3233, -0.6010, -6.5496,\n",
       "                      -1.9651, -0.2099, -4.4269, -3.8692, -4.7217,  2.2484, -4.1794,\n",
       "                      -6.3239, -6.7576, -2.6050, -0.9108,  1.8725, -1.5361, -0.1454,\n",
       "                      -1.8616, -0.6895, -1.1599, -3.1962, -2.7973, -1.3119, -4.7289,\n",
       "                      -1.1424, -3.2038, -6.0835, -3.2235, -0.1516, -3.5413, -0.0335,\n",
       "                       1.1527, -0.1842, -5.2241,  0.6703, -1.5133, -1.8745, -3.7367,\n",
       "                      -6.4304, -4.0525,  0.6202, -4.1366, -5.9829, -4.8174,  0.7696,\n",
       "                      -4.2946, -4.4039, -2.0429, -1.9198, -2.3856, -4.9450,  3.0693,\n",
       "                       0.1091, -2.0567, -1.6078, -2.5864, -2.9840, -1.5060, -0.8895,\n",
       "                      -3.7784, -2.1808,  1.7931, -4.3243, -2.7788, -0.5877, -4.6883,\n",
       "                      -0.5337,  7.0317, -5.7582,  1.6821, -1.2482,  1.3446, -2.0778,\n",
       "                      -2.4097, -1.9883,  3.4517, -3.2171, -3.9932, -0.3541, -1.4252,\n",
       "                      -4.3332, -0.1956, -0.3492,  0.2725, -2.1344, -5.4536, -2.1123,\n",
       "                      -1.5840,  1.7701, -0.8552, -0.1745, -5.1959, -7.5966,  2.8715,\n",
       "                       0.7890,  0.2074, -2.3584, -1.8044,  0.1247, -4.2485, -2.1871,\n",
       "                      -6.9274, -2.3250, -4.9591,  0.2832, -3.6102, -2.7584, -4.4879,\n",
       "                      -6.5235, -1.1625, -2.5944, -4.0333, -0.5331, -2.0134, -3.6513,\n",
       "                      -2.4606, -1.0820, -0.1773, -0.3181, -5.9496, -3.0746, -2.8766,\n",
       "                      -6.3233, -4.3559, -1.4206, -1.6366,  1.4586, -1.3842,  0.6109,\n",
       "                       1.1661,  1.1886,  2.0107,  0.6431, -0.3865, -1.0913, -1.3917,\n",
       "                      -1.4484, -2.7976, -5.1518, -1.1830, -4.1215, -3.0131,  0.4779,\n",
       "                      -0.8698, -0.6988, -4.2566, -0.7269, -4.1899, -4.3487, -1.8790,\n",
       "                      -1.2510, -4.3534, -0.6639, -3.6239, -5.6853, -3.9804, -1.6655,\n",
       "                      -1.7461,  1.0618, -4.6145, -3.6383, -5.2664, -4.7436,  1.6041,\n",
       "                      -6.0224, -5.7146, -1.8656,  3.4660, -5.1997,  0.9451, -1.8755,\n",
       "                      -0.5967,  1.0620,  0.1401, -0.5362, -2.2450, -0.3315, -2.6834,\n",
       "                      -3.1407, -4.3894, -4.2991, -3.2557,  1.0907,  2.0327, -1.0729,\n",
       "                       1.4773, -1.8906, -2.3969, -3.5387, -3.9200, -4.4050,  1.6189,\n",
       "                      -0.5320, -5.3106, -5.0865, -3.8149, -0.1738, -1.5828, -1.4750,\n",
       "                      -1.5401, -0.4592, -1.6471, -2.9310,  0.0063, -1.5539, -0.8864,\n",
       "                      -5.6990, -2.2567, -0.8815, -0.0863, -2.2411, -5.1095, -0.6832,\n",
       "                      -3.9782, -2.3461,  0.1899, -0.1888,  1.6994, -6.7029, -4.7654,\n",
       "                       2.2961, -0.0465, -4.4510, -0.6018, -2.3423, -4.1747, -4.6498,\n",
       "                      -1.7086, -4.5136, -2.5457, -2.2269,  6.3720, -6.5040, -2.0538,\n",
       "                      -0.3039])),\n",
       "             ('hidden_layers.1.weight',\n",
       "              tensor([[-1.3343e-02,  1.5683e-01,  1.8227e-02,  ..., -8.4510e-03,\n",
       "                        8.4081e-02,  1.9559e-03],\n",
       "                      [ 3.6775e-02, -3.4776e-02, -2.2796e-02,  ..., -2.7667e-02,\n",
       "                       -1.2536e-02, -4.8913e-02],\n",
       "                      [-8.5863e-02, -2.3108e-02,  1.1911e-02,  ..., -6.9224e-02,\n",
       "                       -2.2570e-02, -6.9961e-02],\n",
       "                      ...,\n",
       "                      [ 6.0060e-03,  2.9804e-02, -5.2292e-02,  ..., -2.8254e-03,\n",
       "                        3.0776e-02, -4.0548e-02],\n",
       "                      [-5.9624e-02, -4.6504e-02, -7.8842e-02,  ..., -2.8920e-02,\n",
       "                       -5.7531e-03, -6.2562e-03],\n",
       "                      [-4.0556e-02,  5.1101e-02, -3.7269e-02,  ...,  5.4951e-02,\n",
       "                        3.6873e-03,  4.2794e-02]])),\n",
       "             ('hidden_layers.1.bias',\n",
       "              tensor([-0.0190, -0.0002, -0.0049,  0.0439, -0.0402,  0.0093, -0.0202,\n",
       "                      -0.0066, -0.0242,  0.0260, -0.0115, -0.0265,  0.0594,  0.0393,\n",
       "                       0.0789,  0.0228,  0.0099,  0.0400,  0.0585,  0.0792,  0.0081,\n",
       "                       0.0027, -0.0525, -0.0350,  0.0856, -0.0080, -0.0212,  0.0393,\n",
       "                       0.0312,  0.0074, -0.0073,  0.0561,  0.0343,  0.0405, -0.0560,\n",
       "                       0.0236, -0.0224, -0.0399,  0.0802,  0.0251,  0.0703, -0.0189,\n",
       "                       0.0493, -0.0331,  0.1262,  0.0368, -0.0069,  0.0002,  0.0378,\n",
       "                       0.0147, -0.0050, -0.0359,  0.0472,  0.0706,  0.0930, -0.0261,\n",
       "                      -0.0165, -0.0137, -0.0176,  0.0613,  0.0127,  0.0566, -0.0570,\n",
       "                      -0.0150,  0.0516,  0.0501,  0.0729,  0.0288,  0.0504, -0.0183,\n",
       "                      -0.0625, -0.0092,  0.0278, -0.0194,  0.0447, -0.0149,  0.0002,\n",
       "                      -0.0039,  0.0236,  0.0795,  0.0175,  0.0215, -0.0163,  0.0318,\n",
       "                      -0.0329,  0.0003,  0.0180,  0.0334,  0.0638,  0.0449, -0.0461,\n",
       "                      -0.0048, -0.0310,  0.0243,  0.0199,  0.0026, -0.0414,  0.0241,\n",
       "                      -0.0220, -0.0395, -0.0399, -0.0606,  0.0117, -0.0319,  0.1201,\n",
       "                       0.0255,  0.0919,  0.1127,  0.0052, -0.0163, -0.0079, -0.0123,\n",
       "                      -0.0345,  0.0808,  0.0318,  0.0120,  0.0533,  0.0035,  0.0565,\n",
       "                       0.0998, -0.0981,  0.0193, -0.0403,  0.0381, -0.0195, -0.0067,\n",
       "                      -0.0067,  0.0539,  0.0749, -0.0036,  0.0337,  0.0843, -0.0430,\n",
       "                       0.0025, -0.0002,  0.0489, -0.0091,  0.0277, -0.0349, -0.0060,\n",
       "                       0.0888,  0.0543,  0.0853, -0.0609, -0.0157, -0.0159, -0.0950,\n",
       "                       0.0160,  0.0401, -0.0755,  0.0250,  0.0104,  0.0635,  0.0531,\n",
       "                       0.0017,  0.0345,  0.1326, -0.0340,  0.0143, -0.0246,  0.0570,\n",
       "                       0.0190, -0.0143,  0.0296,  0.0085,  0.0243,  0.0630,  0.0089,\n",
       "                      -0.0155,  0.0195, -0.0014,  0.0442,  0.0471,  0.0933, -0.0229,\n",
       "                       0.0779, -0.0682,  0.0241, -0.0232,  0.0166, -0.0323,  0.0172,\n",
       "                       0.0224,  0.0142, -0.0141, -0.0270,  0.0009,  0.0093, -0.0269,\n",
       "                      -0.0501,  0.0202,  0.1044,  0.0310, -0.0587,  0.0774,  0.0591,\n",
       "                      -0.1085, -0.0074,  0.0650,  0.0142,  0.0201,  0.0618, -0.0076,\n",
       "                      -0.0531, -0.0130,  0.0339, -0.0123,  0.0064,  0.0233, -0.0011,\n",
       "                       0.0432,  0.0811,  0.0053,  0.0513,  0.0542,  0.0105,  0.0624,\n",
       "                      -0.0136,  0.0333, -0.0160,  0.0317, -0.0047, -0.0425, -0.0075,\n",
       "                       0.0710,  0.0056, -0.0772,  0.0019,  0.0392, -0.0598, -0.0701,\n",
       "                      -0.0366,  0.0028, -0.0710, -0.0229, -0.0064,  0.0971,  0.0717,\n",
       "                       0.0271, -0.1068,  0.0752, -0.0293,  0.0531, -0.0903, -0.0524,\n",
       "                       0.0701, -0.0162,  0.0222,  0.0346, -0.0206, -0.0174, -0.0657,\n",
       "                      -0.0421, -0.0490,  0.0638, -0.0053])),\n",
       "             ('hidden_layers.2.weight',\n",
       "              tensor([[ 5.6067e-02,  2.4586e-02,  4.7064e-05,  ..., -9.9952e-02,\n",
       "                       -3.2920e-03,  4.6687e-02],\n",
       "                      [ 3.5230e-02, -9.0973e-02,  6.9562e-02,  ...,  1.2357e-01,\n",
       "                       -2.3105e-02, -8.7165e-02],\n",
       "                      [ 3.6049e-02, -1.7019e-02,  7.3756e-02,  ..., -2.5901e-03,\n",
       "                        2.6000e-02, -7.5788e-03],\n",
       "                      ...,\n",
       "                      [-1.3149e-01,  1.5534e-02,  3.1717e-02,  ..., -6.0777e-02,\n",
       "                        2.5428e-02, -5.5427e-02],\n",
       "                      [-1.2993e-02, -9.5345e-03, -1.8542e-02,  ..., -4.3842e-02,\n",
       "                       -4.3982e-02, -5.0310e-02],\n",
       "                      [ 7.9332e-02,  3.1622e-02,  4.4740e-03,  ..., -1.0274e-02,\n",
       "                       -5.2802e-02, -5.6856e-02]])),\n",
       "             ('hidden_layers.2.bias',\n",
       "              tensor([ 0.0336,  0.1080,  0.0834,  0.0422,  0.0544,  0.0149,  0.1403,\n",
       "                       0.0473,  0.1123,  0.0901,  0.0916,  0.0374, -0.0987,  0.0226,\n",
       "                       0.1233,  0.0658, -0.0490, -0.0911, -0.0278,  0.0689,  0.0019,\n",
       "                       0.0303,  0.1318,  0.0440, -0.0014,  0.1041,  0.0515,  0.0137,\n",
       "                       0.0547, -0.0024,  0.0234,  0.0743,  0.0368, -0.1287,  0.1603,\n",
       "                       0.0294,  0.0706,  0.1261, -0.0418,  0.0561, -0.0319,  0.0798,\n",
       "                       0.0594,  0.0303,  0.0230, -0.0267, -0.0921,  0.0809,  0.1593,\n",
       "                       0.1047,  0.1342,  0.0899,  0.0834, -0.0513, -0.0789,  0.0267,\n",
       "                      -0.0089,  0.0299,  0.0419,  0.0532, -0.0469,  0.1646,  0.1639,\n",
       "                       0.0809,  0.0316, -0.0089, -0.0010,  0.0577,  0.0779,  0.0883,\n",
       "                       0.0997, -0.0349,  0.1079,  0.0430,  0.0270,  0.0132,  0.0235,\n",
       "                       0.0160, -0.0192,  0.1092,  0.0296, -0.0933,  0.0389,  0.1276,\n",
       "                      -0.0634,  0.0280,  0.0444, -0.0525,  0.0850,  0.0622,  0.1548,\n",
       "                       0.0327,  0.1207,  0.0316,  0.0643,  0.1434, -0.0565,  0.0861,\n",
       "                       0.0423,  0.1850, -0.1018,  0.0126,  0.0394,  0.0016,  0.0886,\n",
       "                       0.1395, -0.0752,  0.0574,  0.1212,  0.0385,  0.0387,  0.0597,\n",
       "                       0.1242,  0.0610,  0.0689,  0.1157,  0.0272,  0.0745, -0.0043,\n",
       "                       0.0601, -0.0361,  0.1040,  0.0710,  0.0660,  0.0270,  0.0728,\n",
       "                       0.0752, -0.0306])),\n",
       "             ('output.weight',\n",
       "              tensor([[-0.1315,  0.0020,  0.0521,  ...,  0.0461, -0.0250,  0.0303],\n",
       "                      [-0.0420, -0.0343, -0.2023,  ...,  0.0644, -0.1491, -0.0530],\n",
       "                      [-0.0321,  0.0870, -0.0192,  ...,  0.0520,  0.0167, -0.0733],\n",
       "                      ...,\n",
       "                      [ 0.0758, -0.1341, -0.0128,  ..., -0.1429,  0.0692, -0.0374],\n",
       "                      [-0.0784,  0.0618,  0.0633,  ..., -0.0632,  0.0783,  0.0652],\n",
       "                      [-0.0828, -0.1726, -0.0441,  ..., -0.1390, -0.0623, -0.1026]])),\n",
       "             ('output.bias',\n",
       "              tensor([-0.1308, -0.2619,  0.0632,  0.1085,  0.0010,  0.0579,  0.0417,\n",
       "                       0.0796, -0.0489, -0.0776]))])"
      ]
     },
     "execution_count": 20,
     "metadata": {},
     "output_type": "execute_result"
    }
   ],
   "source": [
    "state_dict"
   ]
  },
  {
   "cell_type": "markdown",
   "metadata": {},
   "source": [
    "And to load the state dict in to the network, you do `model.load_state_dict(state_dict)`."
   ]
  },
  {
   "cell_type": "code",
   "execution_count": 21,
   "metadata": {},
   "outputs": [],
   "source": [
    "model.load_state_dict(state_dict)"
   ]
  },
  {
   "cell_type": "markdown",
   "metadata": {},
   "source": [
    "Seems pretty straightforward, but as usual it's a bit more complicated. Loading the state dict works only if the model architecture is exactly the same as the checkpoint architecture. If I create a model with a different architecture, this fails."
   ]
  },
  {
   "cell_type": "code",
   "execution_count": 22,
   "metadata": {
    "scrolled": true
   },
   "outputs": [
    {
     "ename": "RuntimeError",
     "evalue": "Error(s) in loading state_dict for Network:\n\tWhile copying the parameter named \"hidden_layers.0.weight\", whose dimensions in the model are torch.Size([400, 784]) and whose dimensions in the checkpoint are torch.Size([512, 784]).\n\tWhile copying the parameter named \"hidden_layers.0.bias\", whose dimensions in the model are torch.Size([400]) and whose dimensions in the checkpoint are torch.Size([512]).\n\tWhile copying the parameter named \"hidden_layers.1.weight\", whose dimensions in the model are torch.Size([200, 400]) and whose dimensions in the checkpoint are torch.Size([256, 512]).\n\tWhile copying the parameter named \"hidden_layers.1.bias\", whose dimensions in the model are torch.Size([200]) and whose dimensions in the checkpoint are torch.Size([256]).\n\tWhile copying the parameter named \"hidden_layers.2.weight\", whose dimensions in the model are torch.Size([100, 200]) and whose dimensions in the checkpoint are torch.Size([128, 256]).\n\tWhile copying the parameter named \"hidden_layers.2.bias\", whose dimensions in the model are torch.Size([100]) and whose dimensions in the checkpoint are torch.Size([128]).\n\tWhile copying the parameter named \"output.weight\", whose dimensions in the model are torch.Size([10, 100]) and whose dimensions in the checkpoint are torch.Size([10, 128]).",
     "output_type": "error",
     "traceback": [
      "\u001b[0;31m---------------------------------------------------------------------------\u001b[0m",
      "\u001b[0;31mRuntimeError\u001b[0m                              Traceback (most recent call last)",
      "\u001b[0;32m<ipython-input-22-d859c59ebec0>\u001b[0m in \u001b[0;36m<module>\u001b[0;34m()\u001b[0m\n\u001b[1;32m      2\u001b[0m \u001b[0mmodel\u001b[0m \u001b[0;34m=\u001b[0m \u001b[0mfc_model\u001b[0m\u001b[0;34m.\u001b[0m\u001b[0mNetwork\u001b[0m\u001b[0;34m(\u001b[0m\u001b[0;36m784\u001b[0m\u001b[0;34m,\u001b[0m \u001b[0;36m10\u001b[0m\u001b[0;34m,\u001b[0m \u001b[0;34m[\u001b[0m\u001b[0;36m400\u001b[0m\u001b[0;34m,\u001b[0m \u001b[0;36m200\u001b[0m\u001b[0;34m,\u001b[0m \u001b[0;36m100\u001b[0m\u001b[0;34m]\u001b[0m\u001b[0;34m)\u001b[0m\u001b[0;34m\u001b[0m\u001b[0m\n\u001b[1;32m      3\u001b[0m \u001b[0;31m# This will throw an error because the tensor sizes are wrong!\u001b[0m\u001b[0;34m\u001b[0m\u001b[0;34m\u001b[0m\u001b[0m\n\u001b[0;32m----> 4\u001b[0;31m \u001b[0mmodel\u001b[0m\u001b[0;34m.\u001b[0m\u001b[0mload_state_dict\u001b[0m\u001b[0;34m(\u001b[0m\u001b[0mstate_dict\u001b[0m\u001b[0;34m)\u001b[0m\u001b[0;34m\u001b[0m\u001b[0m\n\u001b[0m",
      "\u001b[0;32m/projects/da_workspace/software/miniconda/envs/fastai/lib/python3.6/site-packages/torch/nn/modules/module.py\u001b[0m in \u001b[0;36mload_state_dict\u001b[0;34m(self, state_dict, strict)\u001b[0m\n\u001b[1;32m    719\u001b[0m         \u001b[0;32mif\u001b[0m \u001b[0mlen\u001b[0m\u001b[0;34m(\u001b[0m\u001b[0merror_msgs\u001b[0m\u001b[0;34m)\u001b[0m \u001b[0;34m>\u001b[0m \u001b[0;36m0\u001b[0m\u001b[0;34m:\u001b[0m\u001b[0;34m\u001b[0m\u001b[0m\n\u001b[1;32m    720\u001b[0m             raise RuntimeError('Error(s) in loading state_dict for {}:\\n\\t{}'.format(\n\u001b[0;32m--> 721\u001b[0;31m                                self.__class__.__name__, \"\\n\\t\".join(error_msgs)))\n\u001b[0m\u001b[1;32m    722\u001b[0m \u001b[0;34m\u001b[0m\u001b[0m\n\u001b[1;32m    723\u001b[0m     \u001b[0;32mdef\u001b[0m \u001b[0mparameters\u001b[0m\u001b[0;34m(\u001b[0m\u001b[0mself\u001b[0m\u001b[0;34m)\u001b[0m\u001b[0;34m:\u001b[0m\u001b[0;34m\u001b[0m\u001b[0m\n",
      "\u001b[0;31mRuntimeError\u001b[0m: Error(s) in loading state_dict for Network:\n\tWhile copying the parameter named \"hidden_layers.0.weight\", whose dimensions in the model are torch.Size([400, 784]) and whose dimensions in the checkpoint are torch.Size([512, 784]).\n\tWhile copying the parameter named \"hidden_layers.0.bias\", whose dimensions in the model are torch.Size([400]) and whose dimensions in the checkpoint are torch.Size([512]).\n\tWhile copying the parameter named \"hidden_layers.1.weight\", whose dimensions in the model are torch.Size([200, 400]) and whose dimensions in the checkpoint are torch.Size([256, 512]).\n\tWhile copying the parameter named \"hidden_layers.1.bias\", whose dimensions in the model are torch.Size([200]) and whose dimensions in the checkpoint are torch.Size([256]).\n\tWhile copying the parameter named \"hidden_layers.2.weight\", whose dimensions in the model are torch.Size([100, 200]) and whose dimensions in the checkpoint are torch.Size([128, 256]).\n\tWhile copying the parameter named \"hidden_layers.2.bias\", whose dimensions in the model are torch.Size([100]) and whose dimensions in the checkpoint are torch.Size([128]).\n\tWhile copying the parameter named \"output.weight\", whose dimensions in the model are torch.Size([10, 100]) and whose dimensions in the checkpoint are torch.Size([10, 128])."
     ]
    }
   ],
   "source": [
    "# Try this\n",
    "model = fc_model.Network(784, 10, [400, 200, 100])\n",
    "# This will throw an error because the tensor sizes are wrong!\n",
    "model.load_state_dict(state_dict)"
   ]
  },
  {
   "cell_type": "markdown",
   "metadata": {},
   "source": [
    "This means we need to rebuild the model exactly as it was when trained. Information about the model architecture needs to be saved in the checkpoint, along with the state dict. To do this, you build a dictionary with all the information you need to compeletely rebuild the model."
   ]
  },
  {
   "cell_type": "code",
   "execution_count": 23,
   "metadata": {},
   "outputs": [],
   "source": [
    "checkpoint = {'input_size': 784,\n",
    "              'output_size': 10,\n",
    "              'hidden_layers': [each.out_features for each in model.hidden_layers],\n",
    "              'state_dict': model.state_dict()}\n",
    "\n",
    "torch.save(checkpoint, 'checkpoint.pth')"
   ]
  },
  {
   "cell_type": "markdown",
   "metadata": {},
   "source": [
    "Now the checkpoint has all the necessary information to rebuild the trained model. You can easily make that a function if you want. Similarly, we can write a function to load checkpoints. "
   ]
  },
  {
   "cell_type": "code",
   "execution_count": 28,
   "metadata": {},
   "outputs": [],
   "source": [
    "def load_checkpoint(filepath):\n",
    "    checkpoint = torch.load(filepath)\n",
    "    print(checkpoint.keys())\n",
    "    model = fc_model.Network(checkpoint['input_size'],\n",
    "                             checkpoint['output_size'],\n",
    "                             checkpoint['hidden_layers'])\n",
    "    model.load_state_dict(checkpoint['state_dict'])\n",
    "    \n",
    "    return model"
   ]
  },
  {
   "cell_type": "code",
   "execution_count": 29,
   "metadata": {},
   "outputs": [
    {
     "name": "stdout",
     "output_type": "stream",
     "text": [
      "dict_keys(['input_size', 'output_size', 'hidden_layers', 'state_dict'])\n",
      "Network(\n",
      "  (hidden_layers): ModuleList(\n",
      "    (0): Linear(in_features=784, out_features=400, bias=True)\n",
      "    (1): Linear(in_features=400, out_features=200, bias=True)\n",
      "    (2): Linear(in_features=200, out_features=100, bias=True)\n",
      "  )\n",
      "  (output): Linear(in_features=100, out_features=10, bias=True)\n",
      "  (dropout): Dropout(p=0.5)\n",
      ")\n"
     ]
    }
   ],
   "source": [
    "model = load_checkpoint('checkpoint.pth')\n",
    "print(model)"
   ]
  },
  {
   "cell_type": "code",
   "execution_count": 30,
   "metadata": {},
   "outputs": [
    {
     "data": {
      "text/plain": [
       "<bound method Module.state_dict of Network(\n",
       "  (hidden_layers): ModuleList(\n",
       "    (0): Linear(in_features=784, out_features=400, bias=True)\n",
       "    (1): Linear(in_features=400, out_features=200, bias=True)\n",
       "    (2): Linear(in_features=200, out_features=100, bias=True)\n",
       "  )\n",
       "  (output): Linear(in_features=100, out_features=10, bias=True)\n",
       "  (dropout): Dropout(p=0.5)\n",
       ")>"
      ]
     },
     "execution_count": 30,
     "metadata": {},
     "output_type": "execute_result"
    }
   ],
   "source": [
    "model.state_dict"
   ]
  }
 ],
 "metadata": {
  "kernelspec": {
   "display_name": "Python 3",
   "language": "python",
   "name": "python3"
  },
  "language_info": {
   "codemirror_mode": {
    "name": "ipython",
    "version": 3
   },
   "file_extension": ".py",
   "mimetype": "text/x-python",
   "name": "python",
   "nbconvert_exporter": "python",
   "pygments_lexer": "ipython3",
   "version": "3.6.6"
  }
 },
 "nbformat": 4,
 "nbformat_minor": 2
}
